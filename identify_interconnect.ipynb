{
 "cells": [
  {
   "cell_type": "code",
   "execution_count": 1,
   "metadata": {},
   "outputs": [],
   "source": [
    "import numpy as np\n",
    "from numpy.typing import NDArray\n",
    "import os\n",
    "from typing import List\n",
    "\n",
    "from pandas import read_csv, DataFrame\n",
    "\n",
    "NDArrayFloat = NDArray[np.float_]\n",
    "NDArrayInt = NDArray[np.int_]\n",
    "home_dir = os.getcwd()\n",
    "\n",
    "df: DataFrame = read_csv(\"material_data.csv\")\n",
    "df.drop(\"Unnamed: 0\", axis=\"columns\", inplace=True)\n",
    "df = df.fillna(value=0)\n",
    "\n",
    "allowed_metrics: List[str] = ['e_above_hull', 'nsites', 'vol_mag', 'vf', 'radioactive', 'toxic',\n",
    "                              'worst_rxn_energy_O2', 'worst_rxn_energy_H2O', 'worst_rxn_energy_SiO2',\n",
    "                              'Norm DoS', \"f_block\", \"more_than_four_elems\"]"
   ]
  },
  {
   "cell_type": "code",
   "execution_count": 2,
   "metadata": {},
   "outputs": [
    {
     "data": {
      "application/vnd.jupyter.widget-view+json": {
       "model_id": "bb99f5ac6e73483b864699bb246b98f1",
       "version_major": 2,
       "version_minor": 0
      },
      "text/plain": [
       "Output()"
      ]
     },
     "metadata": {},
     "output_type": "display_data"
    },
    {
     "ename": "NameError",
     "evalue": "name 'gui_ic_select' is not defined",
     "output_type": "error",
     "traceback": [
      "\u001b[0;31m---------------------------------------------------------------------------\u001b[0m",
      "\u001b[0;31mNameError\u001b[0m                                 Traceback (most recent call last)",
      "File \u001b[0;32m~/OneDrive - Stanford/Pycharm_Codes/multiobjective_gui/gui_utils.py:489\u001b[0m, in \u001b[0;36mMultiObjectiveGUI.select_pareto\u001b[0;34m(self, button_instance)\u001b[0m\n\u001b[1;32m    484\u001b[0m     \u001b[39melse\u001b[39;00m:\n\u001b[1;32m    485\u001b[0m         \u001b[39mself\u001b[39m\u001b[39m.\u001b[39merr_bars[:, i_met] \u001b[39m=\u001b[39m (\n\u001b[1;32m    486\u001b[0m             iqr(\u001b[39mself\u001b[39m\u001b[39m.\u001b[39mX_for_pareto[:, i_met]) \u001b[39m*\u001b[39m np\u001b[39m.\u001b[39mones(n_dp) \u001b[39m/\u001b[39m \u001b[39m10\u001b[39m\n\u001b[1;32m    487\u001b[0m         )\n\u001b[0;32m--> 489\u001b[0m \u001b[39mself\u001b[39m\u001b[39m.\u001b[39mps, \u001b[39mself\u001b[39m\u001b[39m.\u001b[39mnps \u001b[39m=\u001b[39m gui_ic_select\u001b[39m.\u001b[39mobtain_discrete_pareto_optima(\n\u001b[1;32m    490\u001b[0m     x_moo\u001b[39m=\u001b[39m\u001b[39mself\u001b[39m\u001b[39m.\u001b[39mX_for_pareto,\n\u001b[1;32m    491\u001b[0m     error_bars\u001b[39m=\u001b[39m\u001b[39mself\u001b[39m\u001b[39m.\u001b[39merr_bars,\n\u001b[1;32m    492\u001b[0m     use_errors\u001b[39m=\u001b[39m\u001b[39mTrue\u001b[39;00m,\n\u001b[1;32m    493\u001b[0m     prog_bar\u001b[39m=\u001b[39m\u001b[39mself\u001b[39m\u001b[39m.\u001b[39mpareto_sampling_progress,\n\u001b[1;32m    494\u001b[0m     report_prog\u001b[39m=\u001b[39m\u001b[39mTrue\u001b[39;00m,\n\u001b[1;32m    495\u001b[0m )\n\u001b[1;32m    497\u001b[0m \u001b[39mself\u001b[39m\u001b[39m.\u001b[39mfig_pareto \u001b[39m=\u001b[39m FigureWidget()\n\u001b[1;32m    498\u001b[0m pca: PCA \u001b[39m=\u001b[39m PCA(n_components\u001b[39m=\u001b[39m\u001b[39m2\u001b[39m)\n",
      "\u001b[0;31mNameError\u001b[0m: name 'gui_ic_select' is not defined"
     ]
    }
   ],
   "source": [
    "from gui_utils import MultiObjectiveGUI\n",
    "gui = MultiObjectiveGUI(allowed_metrics, df)"
   ]
  }
 ],
 "metadata": {
  "kernelspec": {
   "display_name": "create_bs_metrics",
   "language": "python",
   "name": "python3"
  },
  "language_info": {
   "codemirror_mode": {
    "name": "ipython",
    "version": 3
   },
   "file_extension": ".py",
   "mimetype": "text/x-python",
   "name": "python",
   "nbconvert_exporter": "python",
   "pygments_lexer": "ipython3",
   "version": "3.8.12"
  },
  "orig_nbformat": 4,
  "vscode": {
   "interpreter": {
    "hash": "002a6178e746828962ea0aa3f927c5b51f89d8fd33a80548634952d6e503405f"
   }
  }
 },
 "nbformat": 4,
 "nbformat_minor": 2
}
